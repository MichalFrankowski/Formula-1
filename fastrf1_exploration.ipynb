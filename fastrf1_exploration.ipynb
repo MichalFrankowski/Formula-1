{
 "cells": [
  {
   "cell_type": "code",
   "execution_count": 1,
   "metadata": {},
   "outputs": [],
   "source": [
    "import fastf1"
   ]
  },
  {
   "cell_type": "code",
   "execution_count": 13,
   "metadata": {},
   "outputs": [
    {
     "data": {
      "text/plain": [
       "RoundNumber                                               20\n",
       "Country                                                Qatar\n",
       "Location                                              Lusail\n",
       "OfficialEventName    FORMULA 1 OOREDOO QATAR GRAND PRIX 2021\n",
       "EventDate                                2021-11-21 00:00:00\n",
       "EventName                                   Qatar Grand Prix\n",
       "EventFormat                                     conventional\n",
       "Session1                                          Practice 1\n",
       "Session1Date                       2021-11-19 13:30:00+03:00\n",
       "Session1DateUtc                          2021-11-19 10:30:00\n",
       "Session2                                          Practice 2\n",
       "Session2Date                       2021-11-19 17:00:00+03:00\n",
       "Session2DateUtc                          2021-11-19 14:00:00\n",
       "Session3                                          Practice 3\n",
       "Session3Date                       2021-11-20 14:00:00+03:00\n",
       "Session3DateUtc                          2021-11-20 11:00:00\n",
       "Session4                                          Qualifying\n",
       "Session4Date                       2021-11-20 17:00:00+03:00\n",
       "Session4DateUtc                          2021-11-20 14:00:00\n",
       "Session5                                                Race\n",
       "Session5Date                       2021-11-21 17:00:00+03:00\n",
       "Session5DateUtc                          2021-11-21 14:00:00\n",
       "F1ApiSupport                                            True\n",
       "Name: 20, dtype: object"
      ]
     },
     "execution_count": 13,
     "metadata": {},
     "output_type": "execute_result"
    }
   ],
   "source": [
    "event = fastf1.get_event(2021, 20)\n",
    "event"
   ]
  }
 ],
 "metadata": {
  "kernelspec": {
   "display_name": ".venv",
   "language": "python",
   "name": "python3"
  },
  "language_info": {
   "codemirror_mode": {
    "name": "ipython",
    "version": 3
   },
   "file_extension": ".py",
   "mimetype": "text/x-python",
   "name": "python",
   "nbconvert_exporter": "python",
   "pygments_lexer": "ipython3",
   "version": "3.11.4"
  }
 },
 "nbformat": 4,
 "nbformat_minor": 2
}
